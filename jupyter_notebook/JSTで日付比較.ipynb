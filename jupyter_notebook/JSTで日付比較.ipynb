{
 "cells": [
  {
   "cell_type": "code",
   "execution_count": 1,
   "metadata": {},
   "outputs": [
    {
     "name": "stdout",
     "output_type": "stream",
     "text": [
      "now => 2021-05-24 00:42:54.498145+09:00\n",
      "target date => 2021-05-19 00:00:00+09:00\n"
     ]
    }
   ],
   "source": [
    "import datetime\n",
    "import pytz\n",
    "\n",
    "# jstのタイムゾーンを取得\n",
    "JST = pytz.timezone(\"Asia/Tokyo\")\n",
    "\n",
    "# jstで今の日付を取得\n",
    "now_jst_datetime = datetime.datetime.now(pytz.timezone('Asia/Tokyo'))\n",
    "\n",
    "\n",
    "target_date_str = '20210519'\n",
    "# strptimeの第二引数にdatetime型にしたい文字列の型を指定\n",
    "target_date_datetime = datetime.datetime.strptime(target_date_str, '%Y%m%d')\n",
    "# datetime型の日付をjstで取得\n",
    "target_date_jst_datetime = JST.localize(target_date_datetime)\n",
    "\n",
    "print('now => {}'.format(now_jst_datetime))\n",
    "print('target date => {}'.format(target_date_jst_datetime))\n",
    "\n",
    "if now_jst_datetime < target_date_jst_datetime:\n",
    "    print('true')"
   ]
  },
  {
   "cell_type": "code",
   "execution_count": 21,
   "metadata": {},
   "outputs": [
    {
     "name": "stdout",
     "output_type": "stream",
     "text": [
      "yesterday => 2021-05-18 19:08:34.759389+09:00\n",
      "target date => 2021-05-18 00:00:00+09:00\n",
      "ok\n",
      "1\n"
     ]
    }
   ],
   "source": [
    "JST = pytz.timezone(\"Asia/Tokyo\")\n",
    "\n",
    "yesterday_jst_datetime = datetime.datetime.now(pytz.timezone('Asia/Tokyo')) -  datetime.timedelta(days=1)\n",
    "\n",
    "target_date_str = '20210518'\n",
    "target_date_datetime = datetime.datetime.strptime(target_date_str, '%Y%m%d')\n",
    "target_date_jst_datetime = JST.localize(target_date_datetime)\n",
    "\n",
    "print('yesterday => {}'.format(yesterday_jst_datetime))\n",
    "print('target date => {}'.format(target_date_jst_datetime))\n",
    "\n",
    "if yesterday_jst_datetime >= target_date_jst_datetime:\n",
    "    print('ok')\n",
    "    print('1')\n",
    "    \n",
    "if yesterday_jst_datetime < target_date_jst_datetime:\n",
    "    print('error')\n",
    "    print('2')\n",
    "    \n",
    "if yesterday_jst_datetime == target_date_jst_datetime:\n",
    "    print('3')"
   ]
  },
  {
   "cell_type": "code",
   "execution_count": null,
   "metadata": {},
   "outputs": [],
   "source": []
  }
 ],
 "metadata": {
  "kernelspec": {
   "display_name": "Python 3",
   "language": "python",
   "name": "python3"
  },
  "language_info": {
   "codemirror_mode": {
    "name": "ipython",
    "version": 3
   },
   "file_extension": ".py",
   "mimetype": "text/x-python",
   "name": "python",
   "nbconvert_exporter": "python",
   "pygments_lexer": "ipython3",
   "version": "3.8.3"
  }
 },
 "nbformat": 4,
 "nbformat_minor": 4
}

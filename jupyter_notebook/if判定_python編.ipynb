{
 "cells": [
  {
   "cell_type": "code",
   "execution_count": 20,
   "metadata": {},
   "outputs": [
    {
     "name": "stdout",
     "output_type": "stream",
     "text": [
      "<class 'str'>\n",
      "<class 'str'>\n",
      "<class 'str'> あ\n",
      "<class 'str'> \n",
      "1 <class 'str'>\n",
      "2 <class 'NoneType'>\n",
      "あ\n",
      "None\n"
     ]
    }
   ],
   "source": [
    "# アンパック内の空文字の扱い\n",
    "\n",
    "def convert_dict(app_number=None, service_type=None):\n",
    "    \n",
    "    print(type(app_number), app_number)\n",
    "    print(type(service_type), service_type)\n",
    "    \n",
    "    app_number = app_number if app_number else None\n",
    "    service_type = service_type if service_type else  None\n",
    "    \n",
    "    print('1', type(app_number))\n",
    "    print('2', type(service_type))\n",
    "\n",
    "    return app_number, service_type\n",
    "\n",
    "dict_for_unpack = {\n",
    "    \"app_number\": \"あ\",\n",
    "    \"service_type\": \"\"\n",
    "} \n",
    "\n",
    "print(type(dict_for_unpack.get('app_number')))\n",
    "print(type(dict_for_unpack.get('service_type')))\n",
    "\n",
    "app_numebr, service_type = convert_dict(**dict_for_unpack)\n",
    "\n",
    "print(app_numebr)\n",
    "print(service_type)"
   ]
  },
  {
   "cell_type": "code",
   "execution_count": 21,
   "metadata": {},
   "outputs": [
    {
     "name": "stdout",
     "output_type": "stream",
     "text": [
      "false\n"
     ]
    }
   ],
   "source": [
    "# リスト型で何もない場合の判定\n",
    "empty_list = []\n",
    "\n",
    "print('true' if empty_list else 'false')"
   ]
  },
  {
   "cell_type": "code",
   "execution_count": 2,
   "metadata": {},
   "outputs": [
    {
     "name": "stdout",
     "output_type": "stream",
     "text": [
      "true\n"
     ]
    }
   ],
   "source": [
    "# 空文字とNoneのnot判定\n",
    "\n",
    "none_sample = None\n",
    "empty_sample = ''\n",
    "\n",
    "if not (none_sample or empty_sample):\n",
    "    print('true')"
   ]
  },
  {
   "cell_type": "code",
   "execution_count": 5,
   "metadata": {},
   "outputs": [
    {
     "name": "stdout",
     "output_type": "stream",
     "text": [
      "true\n",
      "true\n"
     ]
    }
   ],
   "source": [
    "empty_sample = ''\n",
    "\n",
    "if not empty_sample:\n",
    "    print('true')\n",
    "\n",
    "if not none_sample:\n",
    "    print('true')\n"
   ]
  },
  {
   "cell_type": "code",
   "execution_count": null,
   "metadata": {},
   "outputs": [],
   "source": []
  }
 ],
 "metadata": {
  "kernelspec": {
   "display_name": "Python 3",
   "language": "python",
   "name": "python3"
  },
  "language_info": {
   "codemirror_mode": {
    "name": "ipython",
    "version": 3
   },
   "file_extension": ".py",
   "mimetype": "text/x-python",
   "name": "python",
   "nbconvert_exporter": "python",
   "pygments_lexer": "ipython3",
   "version": "3.8.3"
  }
 },
 "nbformat": 4,
 "nbformat_minor": 4
}

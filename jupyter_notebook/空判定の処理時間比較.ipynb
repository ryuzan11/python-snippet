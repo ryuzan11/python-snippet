{
 "cells": [
  {
   "cell_type": "code",
   "execution_count": 1,
   "metadata": {},
   "outputs": [
    {
     "name": "stdout",
     "output_type": "stream",
     "text": [
      "2.1 µs ± 73.2 ns per loop (mean ± std. dev. of 7 runs, 1000000 loops each)\n",
      "463 ns ± 14.9 ns per loop (mean ± std. dev. of 7 runs, 1000000 loops each)\n",
      "351 ns ± 20.4 ns per loop (mean ± std. dev. of 7 runs, 1000000 loops each)\n"
     ]
    }
   ],
   "source": [
    "import pandas as pd\n",
    "import numpy as np\n",
    "import timeit\n",
    "\n",
    "df = pd.DataFrame(np.random.randn(10000, 4), columns=list('ABCD'))\n",
    "\n",
    "def empty(df):\n",
    "    return df.empty\n",
    "\n",
    "def lenz(df):\n",
    "    return len(df) == 0\n",
    "\n",
    "def lenzi(df):\n",
    "    return len(df.index) == 0\n",
    "\n",
    "%timeit empty(df)\n",
    "%timeit lenz(df)\n",
    "%timeit lenzi(df)"
   ]
  },
  {
   "cell_type": "code",
   "execution_count": null,
   "metadata": {},
   "outputs": [],
   "source": []
  }
 ],
 "metadata": {
  "kernelspec": {
   "display_name": "Python 3",
   "language": "python",
   "name": "python3"
  },
  "language_info": {
   "codemirror_mode": {
    "name": "ipython",
    "version": 3
   },
   "file_extension": ".py",
   "mimetype": "text/x-python",
   "name": "python",
   "nbconvert_exporter": "python",
   "pygments_lexer": "ipython3",
   "version": "3.8.3"
  }
 },
 "nbformat": 4,
 "nbformat_minor": 4
}

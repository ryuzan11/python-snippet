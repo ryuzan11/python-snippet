{
 "cells": [
  {
   "cell_type": "code",
   "execution_count": null,
   "metadata": {},
   "outputs": [],
   "source": [
    "import requests"
   ]
  },
  {
   "cell_type": "code",
   "execution_count": 1,
   "metadata": {},
   "outputs": [
    {
     "name": "stdout",
     "output_type": "stream",
     "text": [
      "{\"message\":\"Hello there, wayfaring stranger. If you’re reading this then you probably didn’t see our blog post a couple of years back announcing that this API would go away: http://git.io/17AROg Fear not, you should be able to get what you need from the shiny new Events API instead.\",\"documentation_url\":\"https://docs.github.com/v3/activity/events/#list-public-events\"} \n",
      "\n",
      "utf-8 \n",
      "\n",
      "b'{\"message\":\"Hello there, wayfaring stranger. If you\\xe2\\x80\\x99re reading this then you probably didn\\xe2\\x80\\x99t see our blog post a couple of years back announcing that this API would go away: http://git.io/17AROg Fear not, you should be able to get what you need from the shiny new Events API instead.\",\"documentation_url\":\"https://docs.github.com/v3/activity/events/#list-public-events\"}' \n",
      "\n",
      "{'message': 'Hello there, wayfaring stranger. If you’re reading this then you probably didn’t see our blog post a couple of years back announcing that this API would go away: http://git.io/17AROg Fear not, you should be able to get what you need from the shiny new Events API instead.', 'documentation_url': 'https://docs.github.com/v3/activity/events/#list-public-events'} \n",
      "\n",
      "<urllib3.response.HTTPResponse object at 0x10ba1fa00> \n",
      "\n",
      "post\n",
      "\n",
      "{\n",
      "  \"args\": {}, \n",
      "  \"data\": \"\", \n",
      "  \"files\": {}, \n",
      "  \"form\": {}, \n",
      "  \"headers\": {\n",
      "    \"Accept\": \"*/*\", \n",
      "    \"Accept-Encoding\": \"gzip, deflate\", \n",
      "    \"Content-Length\": \"0\", \n",
      "    \"Host\": \"httpbin.org\", \n",
      "    \"User-Agent\": \"python-requests/2.24.0\", \n",
      "    \"X-Amzn-Trace-Id\": \"Root=1-60aa8c14-76baf7ef0565415545042b45\"\n",
      "  }, \n",
      "  \"json\": null, \n",
      "  \"origin\": \"163.58.107.87\", \n",
      "  \"url\": \"http://httpbin.org/post\"\n",
      "}\n",
      " \n",
      "\n",
      "['{\\n  \"args\": {}', ' \\n  \"data\": \"\"', ' \\n  \"files\": {}', ' \\n  \"form\": {}', ' \\n  \"headers\": {\\n    \"Accept\": \"*/*\"', ' \\n    \"Accept-Encoding\": \"gzip', ' deflate\"', ' \\n    \"Content-Length\": \"0\"', ' \\n    \"Host\": \"httpbin.org\"', ' \\n    \"User-Agent\": \"python-requests/2.24.0\"', ' \\n    \"X-Amzn-Trace-Id\": \"Root=1-60aa8c14-76baf7ef0565415545042b45\"\\n  }', ' \\n  \"json\": null', ' \\n  \"origin\": \"163.58.107.87\"', ' \\n  \"url\": \"http://httpbin.org/post\"\\n}\\n']\n"
     ]
    }
   ],
   "source": [
    "def request():\n",
    "    r_get = requests.get('https://github.com/timeline.json')\n",
    "    # data,headers,timeout\n",
    "    r_post = requests.post(\"http://httpbin.org/post\")\n",
    "    \n",
    "    print(r_get.text, '\\n')\n",
    "    print(r_get.encoding, '\\n')\n",
    "    print(r_get.content, '\\n')\n",
    "    print(r_get.json(), '\\n')\n",
    "    print(r_get.raw, '\\n')\n",
    "    print('post\\n')\n",
    "    print(r_post.text, '\\n')\n",
    "    print(r_post.text.split(','))\n",
    "    \n",
    "request()"
   ]
  },
  {
   "cell_type": "code",
   "execution_count": 8,
   "metadata": {},
   "outputs": [
    {
     "name": "stdout",
     "output_type": "stream",
     "text": [
      "{'args': {}, 'data': '{\"name\": \"taro\"}', 'files': {}, 'form': {}, 'headers': {'Accept': '*/*', 'Accept-Encoding': 'gzip, deflate', 'Content-Length': '16', 'Content-Type': 'application/json', 'Host': 'httpbin.org', 'User-Agent': 'python-requests/2.24.0', 'X-Amzn-Trace-Id': 'Root=1-61b37384-1adfe45a2694fa3d75de517d'}, 'json': {'name': 'taro'}, 'origin': '126.203.199.69', 'url': 'https://httpbin.org/post'}\n"
     ]
    }
   ],
   "source": [
    "def sample_post(name):\n",
    "    url = 'https://httpbin.org/post'\n",
    "    \n",
    "    headers = {\n",
    "        'Content-Type': 'application/json'\n",
    "    }\n",
    "    \n",
    "    json_data = {\n",
    "        'name': name\n",
    "    }\n",
    "    \n",
    "    response = requests.post(url, headers=headers, json=json_data)\n",
    "    \n",
    "    print(response.json())\n",
    "    \n",
    "\n",
    "sample_post('taro')\n",
    "    "
   ]
  },
  {
   "cell_type": "code",
   "execution_count": null,
   "metadata": {},
   "outputs": [],
   "source": []
  },
  {
   "cell_type": "code",
   "execution_count": null,
   "metadata": {},
   "outputs": [],
   "source": []
  },
  {
   "cell_type": "code",
   "execution_count": null,
   "metadata": {},
   "outputs": [],
   "source": []
  }
 ],
 "metadata": {
  "kernelspec": {
   "display_name": "Python 3",
   "language": "python",
   "name": "python3"
  },
  "language_info": {
   "codemirror_mode": {
    "name": "ipython",
    "version": 3
   },
   "file_extension": ".py",
   "mimetype": "text/x-python",
   "name": "python",
   "nbconvert_exporter": "python",
   "pygments_lexer": "ipython3",
   "version": "3.8.5"
  }
 },
 "nbformat": 4,
 "nbformat_minor": 4
}

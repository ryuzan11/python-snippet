{
 "cells": [
  {
   "cell_type": "code",
   "execution_count": 11,
   "metadata": {},
   "outputs": [
    {
     "data": {
      "text/html": [
       "<div>\n",
       "<style scoped>\n",
       "    .dataframe tbody tr th:only-of-type {\n",
       "        vertical-align: middle;\n",
       "    }\n",
       "\n",
       "    .dataframe tbody tr th {\n",
       "        vertical-align: top;\n",
       "    }\n",
       "\n",
       "    .dataframe thead th {\n",
       "        text-align: right;\n",
       "    }\n",
       "</style>\n",
       "<table border=\"1\" class=\"dataframe\">\n",
       "  <thead>\n",
       "    <tr style=\"text-align: right;\">\n",
       "      <th></th>\n",
       "      <th>app_type</th>\n",
       "      <th>app_way</th>\n",
       "      <th>import_cd</th>\n",
       "      <th>status_cd</th>\n",
       "    </tr>\n",
       "  </thead>\n",
       "  <tbody>\n",
       "    <tr>\n",
       "      <th>0</th>\n",
       "      <td>1.0</td>\n",
       "      <td>1</td>\n",
       "      <td>1.0</td>\n",
       "      <td>NaN</td>\n",
       "    </tr>\n",
       "    <tr>\n",
       "      <th>1</th>\n",
       "      <td>2.0</td>\n",
       "      <td>2</td>\n",
       "      <td>2.0</td>\n",
       "      <td>380.0</td>\n",
       "    </tr>\n",
       "    <tr>\n",
       "      <th>2</th>\n",
       "      <td>3.0</td>\n",
       "      <td>None</td>\n",
       "      <td>3.0</td>\n",
       "      <td>410.0</td>\n",
       "    </tr>\n",
       "    <tr>\n",
       "      <th>3</th>\n",
       "      <td>NaN</td>\n",
       "      <td>1</td>\n",
       "      <td>11.0</td>\n",
       "      <td>250.0</td>\n",
       "    </tr>\n",
       "    <tr>\n",
       "      <th>4</th>\n",
       "      <td>1.0</td>\n",
       "      <td>2</td>\n",
       "      <td>12.0</td>\n",
       "      <td>NaN</td>\n",
       "    </tr>\n",
       "  </tbody>\n",
       "</table>\n",
       "</div>"
      ],
      "text/plain": [
       "   app_type app_way  import_cd  status_cd\n",
       "0       1.0       1        1.0        NaN\n",
       "1       2.0       2        2.0      380.0\n",
       "2       3.0    None        3.0      410.0\n",
       "3       NaN       1       11.0      250.0\n",
       "4       1.0       2       12.0        NaN"
      ]
     },
     "execution_count": 11,
     "metadata": {},
     "output_type": "execute_result"
    }
   ],
   "source": [
    "import pandas as pd\n",
    "\n",
    "sample = {\n",
    "    'app_type': [1, 2, 3, None, 1, 2, 3, None, 1, 2, 3, None,  1, 2],\n",
    "    'app_way': [1, 2, None, 1, 2, None, 1, 2, 1, 2, None, 1 ,2, None],\n",
    "    'import_cd': [1, 2, 3, 11, 12, 13, None, 1, 2, 3, 11, 12, 13, None],\n",
    "    'status_cd': [None, 380, 410, 250, None, 380, 410, 250, None, 380, None, 380, 410, 250]\n",
    "}\n",
    "\n",
    "df = pd.DataFrame(sample)\n",
    "df.head()"
   ]
  },
  {
   "cell_type": "code",
   "execution_count": 12,
   "metadata": {},
   "outputs": [
    {
     "name": "stdout",
     "output_type": "stream",
     "text": [
      "True\n",
      "True\n"
     ]
    }
   ],
   "source": [
    "# 参考までにただのNone同士の比較はTrueになる\n",
    "print(None == None)\n",
    "print(None is None)"
   ]
  },
  {
   "cell_type": "code",
   "execution_count": 13,
   "metadata": {},
   "outputs": [
    {
     "data": {
      "text/plain": [
       "0     False\n",
       "1      True\n",
       "2     False\n",
       "3     False\n",
       "4     False\n",
       "5     False\n",
       "6     False\n",
       "7     False\n",
       "8     False\n",
       "9     False\n",
       "10    False\n",
       "11    False\n",
       "12    False\n",
       "13    False\n",
       "dtype: bool"
      ]
     },
     "execution_count": 13,
     "metadata": {},
     "output_type": "execute_result"
    }
   ],
   "source": [
    "# NaN同士の比較はFalseになる\n",
    "# Not a Number\n",
    "# Not a Time(NaT)はどうなる？\n",
    "ccc = df['app_way']  == df['import_cd']\n",
    "ccc"
   ]
  },
  {
   "cell_type": "markdown",
   "metadata": {},
   "source": [
    "- 参考：https://estuarine.jp/2017/09/extract_rows_with_nan/"
   ]
  },
  {
   "cell_type": "code",
   "execution_count": 18,
   "metadata": {},
   "outputs": [
    {
     "name": "stdout",
     "output_type": "stream",
     "text": [
      "   app_type  app_way  import_cd  status_cd\n",
      "0     False    False      False       True\n",
      "1     False    False      False      False\n",
      "2     False     True      False      False\n",
      "3      True    False      False      False\n",
      "4     False    False      False       True\n"
     ]
    }
   ],
   "source": [
    "nan_df1 = df.isnull()\n",
    "print(nan_df1.head())"
   ]
  },
  {
   "cell_type": "code",
   "execution_count": 17,
   "metadata": {},
   "outputs": [
    {
     "name": "stdout",
     "output_type": "stream",
     "text": [
      "0    False\n",
      "1    False\n",
      "2    False\n",
      "3     True\n",
      "4    False\n",
      "Name: app_type, dtype: bool\n"
     ]
    }
   ],
   "source": [
    "nan_df1 = df['app_type'].isnull()\n",
    "print(nan_df1.head())"
   ]
  },
  {
   "cell_type": "markdown",
   "metadata": {},
   "source": [
    "## 1, 12行目が消える"
   ]
  },
  {
   "cell_type": "code",
   "execution_count": 20,
   "metadata": {},
   "outputs": [
    {
     "name": "stdout",
     "output_type": "stream",
     "text": [
      "   app_type  app_way  import_cd  status_cd\n",
      "0       1.0      1.0        1.0        NaN\n",
      "2       3.0      NaN        3.0      410.0\n",
      "3       NaN      1.0       11.0      250.0\n",
      "4       1.0      2.0       12.0        NaN\n",
      "5       2.0      NaN       13.0      380.0\n"
     ]
    }
   ],
   "source": [
    "# Nanがない行が削除される\n",
    "nan2_df = df[df.isnull().any(axis=1)]\n",
    "print(nan2_df.head())"
   ]
  },
  {
   "cell_type": "code",
   "execution_count": 22,
   "metadata": {},
   "outputs": [
    {
     "name": "stdout",
     "output_type": "stream",
     "text": [
      "app_type     True\n",
      "app_way      True\n",
      "import_cd    True\n",
      "status_cd    True\n",
      "dtype: bool\n"
     ]
    }
   ],
   "source": [
    "print(df.isnull().any())"
   ]
  },
  {
   "cell_type": "code",
   "execution_count": 9,
   "metadata": {},
   "outputs": [
    {
     "name": "stdout",
     "output_type": "stream",
     "text": [
      "0.2\n"
     ]
    },
    {
     "data": {
      "text/plain": [
       "TypeError(\"unsupported operand type(s) for /: 'str' and 'int'\")"
      ]
     },
     "execution_count": 9,
     "metadata": {},
     "output_type": "execute_result"
    }
   ],
   "source": [
    "def ccc(a, b, c):\n",
    "    try:\n",
    "        print(jjj(a))\n",
    "\n",
    "        print(jjj(b))\n",
    "        \n",
    "        print(c)\n",
    "    except  Exception as e:\n",
    "        return e\n",
    "    \n",
    "def jjj(d):\n",
    "    return d / 10\n",
    "\n",
    "def abab(a, b, c):\n",
    "    try:\n",
    "        print(a)\n",
    "        \n",
    "        print(b / 10)\n",
    "        \n",
    "        print(c / 80)\n",
    "    except Exception as e:\n",
    "        return e\n",
    "    \n",
    "a = 2\n",
    "b = 'gjo'\n",
    "c = 'aowei'\n",
    "\n",
    "# result = abab(a, b, c)\n",
    "\n",
    "# result\n",
    "\n",
    "result2 = ccc(a, b, c)\n",
    "result2"
   ]
  },
  {
   "cell_type": "code",
   "execution_count": null,
   "metadata": {},
   "outputs": [],
   "source": []
  }
 ],
 "metadata": {
  "kernelspec": {
   "display_name": "Python 3",
   "language": "python",
   "name": "python3"
  },
  "language_info": {
   "codemirror_mode": {
    "name": "ipython",
    "version": 3
   },
   "file_extension": ".py",
   "mimetype": "text/x-python",
   "name": "python",
   "nbconvert_exporter": "python",
   "pygments_lexer": "ipython3",
   "version": "3.8.3"
  }
 },
 "nbformat": 4,
 "nbformat_minor": 4
}

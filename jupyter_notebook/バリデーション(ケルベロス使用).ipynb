{
 "cells": [
  {
   "cell_type": "code",
   "execution_count": 6,
   "metadata": {},
   "outputs": [
    {
     "name": "stdout",
     "output_type": "stream",
     "text": [
      "False\n"
     ]
    }
   ],
   "source": [
    "from cerberus import Validator\n",
    "\n",
    "def cerberus_research(params):\n",
    "    # バリデーションルール\n",
    "    scheme = {\n",
    "        'name': {\n",
    "            'type': 'string',\n",
    "            # オプション\n",
    "            'required': False,\n",
    "            'nullable': True,\n",
    "            'empty': True\n",
    "        },\n",
    "        'id': {\n",
    "            'type': 'integer',\n",
    "            # 必須\n",
    "            'required': True,\n",
    "            'empty': False\n",
    "        }\n",
    "    }\n",
    "    \n",
    "    # バリデーションチェックのインスタンスを作成\n",
    "    check_validator = Validator(scheme)\n",
    "    \n",
    "    # バリデーションチェックを実行\n",
    "    result = check_validator.validate(params)\n",
    "    \n",
    "    print(result)\n",
    "\n",
    "    \n",
    "# params = {\n",
    "#     'name': 'yuta',\n",
    "#     'id': 0\n",
    "# }\n",
    "\n",
    "params = {\n",
    "    'name': 0,\n",
    "    'id': 'test'\n",
    "}\n",
    "\n",
    "# params = {\n",
    "#     'id': 0\n",
    "# }\n",
    "\n",
    "# params = {\n",
    "#     'id': 'test'\n",
    "# }\n",
    "\n",
    "# params = {\n",
    "#     'name': 'yuta',\n",
    "# }\n",
    "\n",
    "cerberus_research(params)"
   ]
  },
  {
   "cell_type": "code",
   "execution_count": 8,
   "metadata": {
    "scrolled": true
   },
   "outputs": [
    {
     "name": "stdout",
     "output_type": "stream",
     "text": [
      "Package         Version\r\n",
      "--------------- -------\r\n",
      "autopep8        1.5.4\r\n",
      "Cerberus        1.3.3\r\n",
      "et-xmlfile      1.0.1\r\n",
      "jdcal           1.4.1\r\n",
      "numpy           1.19.5\r\n",
      "openpyxl        3.0.6\r\n",
      "pandas          1.2.0\r\n",
      "pip             21.0.1\r\n",
      "pycodestyle     2.6.0\r\n",
      "pyminizip       0.2.4\r\n",
      "python-dateutil 2.8.1\r\n",
      "pytz            2020.5\r\n",
      "setuptools      40.8.0\r\n",
      "six             1.15.0\r\n",
      "toml            0.10.2\r\n",
      "wheel           0.35.1\r\n",
      "xlrd            2.0.1\r\n"
     ]
    }
   ],
   "source": []
  },
  {
   "cell_type": "code",
   "execution_count": 3,
   "metadata": {},
   "outputs": [],
   "source": []
  },
  {
   "cell_type": "code",
   "execution_count": null,
   "metadata": {},
   "outputs": [],
   "source": []
  }
 ],
 "metadata": {
  "kernelspec": {
   "display_name": "Python 3",
   "language": "python",
   "name": "python3"
  },
  "language_info": {
   "codemirror_mode": {
    "name": "ipython",
    "version": 3
   },
   "file_extension": ".py",
   "mimetype": "text/x-python",
   "name": "python",
   "nbconvert_exporter": "python",
   "pygments_lexer": "ipython3",
   "version": "3.8.3"
  }
 },
 "nbformat": 4,
 "nbformat_minor": 4
}

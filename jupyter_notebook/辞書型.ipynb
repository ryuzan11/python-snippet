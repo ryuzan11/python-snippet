{
 "cells": [
  {
   "cell_type": "code",
   "execution_count": 2,
   "metadata": {},
   "outputs": [
    {
     "name": "stdout",
     "output_type": "stream",
     "text": [
      "<class 'int'>\n",
      "<class 'int'>\n",
      "<class 'int'>\n"
     ]
    }
   ],
   "source": [
    "# keyに数値が入ることの確認\n",
    "# JSONオブジェクトのkeyにintを設定すると、フロントでは文字列として受け取ることになる\n",
    "\n",
    "sample1 = {\n",
    "    1: \"one\",\n",
    "    2: \"two\",\n",
    "    3: \"three\"\n",
    "}\n",
    "\n",
    "for i in sample1.keys():\n",
    "    print(type(i))"
   ]
  },
  {
   "cell_type": "code",
   "execution_count": 2,
   "metadata": {},
   "outputs": [
    {
     "name": "stdout",
     "output_type": "stream",
     "text": [
      "<class 'bool'>\n",
      "True\n",
      "<class 'bool'>\n",
      "False\n",
      "<class 'bool'>\n",
      "True\n"
     ]
    }
   ],
   "source": [
    "# valueの真偽値の挙動確認\n",
    "\n",
    "sample2 = {\n",
    "    \"one\": True,\n",
    "    \"two\": False,\n",
    "    \"three\": True\n",
    "}\n",
    "\n",
    "for i in sample2.values():\n",
    "    print(type(i))\n",
    "    print(i)"
   ]
  },
  {
   "cell_type": "code",
   "execution_count": 2,
   "metadata": {},
   "outputs": [
    {
     "ename": "SyntaxError",
     "evalue": "invalid character in identifier (<ipython-input-2-6e371eba9885>, line 4)",
     "output_type": "error",
     "traceback": [
      "\u001b[0;36m  File \u001b[0;32m\"<ipython-input-2-6e371eba9885>\"\u001b[0;36m, line \u001b[0;32m4\u001b[0m\n\u001b[0;31m    True:　\"one\",\u001b[0m\n\u001b[0m         ^\u001b[0m\n\u001b[0;31mSyntaxError\u001b[0m\u001b[0;31m:\u001b[0m invalid character in identifier\n"
     ]
    }
   ],
   "source": [
    "# keyに真偽値が入るか\n",
    "\n",
    "sample2 = {\n",
    "    True:　\"one\",\n",
    "    False:　\"two\",\n",
    "    True: \"three\"\n",
    "}"
   ]
  },
  {
   "cell_type": "code",
   "execution_count": 5,
   "metadata": {},
   "outputs": [
    {
     "name": "stdout",
     "output_type": "stream",
     "text": [
      "{'aaa': 'abc', 'bbb': None}\n",
      "{'ccc': 'ccc', 'bbb': None, 'aaa': 'abc'}\n",
      "{'aaa': 'abc', 'bbb': None, 'ccc': 'ccc'}\n"
     ]
    }
   ],
   "source": [
    "sample3_dict = {\n",
    "    'aaa': 'abc',\n",
    "    'bbb': None\n",
    "}\n",
    "\n",
    "sample4_dict = {\n",
    "    'ccc': 'ccc',\n",
    "    'bbb': 'sample',\n",
    "    **sample3_dict\n",
    "}\n",
    "\n",
    "print(sample3_dict)\n",
    "print(sample4_dict)\n",
    "\n",
    "sample3_dict = {**sample3_dict, **sample4_dict}\n",
    "\n",
    "print(sample3_dict)"
   ]
  },
  {
   "cell_type": "code",
   "execution_count": 6,
   "metadata": {},
   "outputs": [
    {
     "name": "stdout",
     "output_type": "stream",
     "text": [
      "one\n"
     ]
    }
   ],
   "source": [
    "# getメソッドに第二引数を渡した場合\n",
    "print(sample1.get(0, 0))"
   ]
  },
  {
   "cell_type": "code",
   "execution_count": 2,
   "metadata": {},
   "outputs": [
    {
     "name": "stdout",
     "output_type": "stream",
     "text": [
      "{\"aaa\": \"abc\"}\n",
      "{}\n"
     ]
    }
   ],
   "source": [
    "import json\n",
    "\n",
    "aaa = json.dumps({'aaa': 'abc'})\n",
    "bbb = json.dumps({})\n",
    "\n",
    "print(aaa)\n",
    "print(bbb)"
   ]
  },
  {
   "cell_type": "code",
   "execution_count": null,
   "metadata": {},
   "outputs": [],
   "source": []
  }
 ],
 "metadata": {
  "kernelspec": {
   "display_name": "Python 3",
   "language": "python",
   "name": "python3"
  },
  "language_info": {
   "codemirror_mode": {
    "name": "ipython",
    "version": 3
   },
   "file_extension": ".py",
   "mimetype": "text/x-python",
   "name": "python",
   "nbconvert_exporter": "python",
   "pygments_lexer": "ipython3",
   "version": "3.8.3"
  }
 },
 "nbformat": 4,
 "nbformat_minor": 4
}

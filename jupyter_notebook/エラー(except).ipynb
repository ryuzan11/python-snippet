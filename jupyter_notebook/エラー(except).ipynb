{
 "cells": [
  {
   "cell_type": "code",
   "execution_count": null,
   "metadata": {},
   "outputs": [],
   "source": [
    "# as eはPython3の書き方\n",
    "# except節はワイルドカード\n",
    "# Exceptionはシステム終了以外のすべての組み込み例外の基底クラス"
   ]
  },
  {
   "cell_type": "code",
   "execution_count": 3,
   "metadata": {},
   "outputs": [
    {
     "name": "stdout",
     "output_type": "stream",
     "text": [
      "Exception\n",
      "<class 'Exception'> aaa\n",
      "<class 'tuple'> ('aaa',)\n",
      "<class 'str'> aaa\n",
      "例外終了後\n"
     ]
    }
   ],
   "source": [
    "# 色々な例外エラー処理\n",
    "\n",
    "def except_test():\n",
    "    try:\n",
    "#         raise NameError('name error')\n",
    "        raise Exception('aaa')\n",
    "    except (ZeroDivisionError, TypeError) as e:\n",
    "        print('ZeroDivisionError, TypeError')\n",
    "        print(type(e), e)\n",
    "        print(type(e.args), e.args)\n",
    "        print(type(e.args[0]), e.args[0])\n",
    "    except ZeroDivisionError as e:\n",
    "        print('ZeroDivisionError')\n",
    "        print(type(e), e)\n",
    "        print(type(e.args), e.args)\n",
    "        print(type(e.args[0]), e.args[0])\n",
    "    except TypeError as e:\n",
    "        print('TypeError')\n",
    "        print(type(e), e)\n",
    "        print(type(e.args), e.args)\n",
    "        print(type(e.args[0]), e.args[0])\n",
    "    except Exception as e:\n",
    "        print('Exception')\n",
    "        print(type(e), e)\n",
    "        print(type(e.args), e.args)\n",
    "        print(type(e.args[0]), e.args[0])\n",
    "    except:\n",
    "        print('Error')\n",
    "    print('例外終了後')\n",
    "        \n",
    "except_test()"
   ]
  },
  {
   "cell_type": "code",
   "execution_count": 10,
   "metadata": {},
   "outputs": [
    {
     "name": "stdout",
     "output_type": "stream",
     "text": [
      "<class 'RuntimeError'> No active exception to reraise\n",
      "実行される\n"
     ]
    }
   ],
   "source": [
    "# 例外をキャッチしても何も処理を行わず終了\n",
    "\n",
    "def except_test2():\n",
    "    try:\n",
    "        raise\n",
    "    except Exception as e:\n",
    "        print(type(e), e)\n",
    "        pass\n",
    "    print('実行される')\n",
    "        \n",
    "except_test2()"
   ]
  },
  {
   "cell_type": "code",
   "execution_count": 16,
   "metadata": {},
   "outputs": [
    {
     "name": "stdout",
     "output_type": "stream",
     "text": [
      "try内でエラー発生\n",
      "No active exception to reraise\n",
      "処理再開\n"
     ]
    }
   ],
   "source": [
    "# exceptでエラーを拾うが、処理は中断されない\n",
    "\n",
    "def except_test3():\n",
    "    try:\n",
    "        raise\n",
    "    except Exception as e:\n",
    "        print('try内でエラー発生')\n",
    "        print(e)\n",
    "        \n",
    "    print('処理再開')\n",
    "\n",
    "except_test3()"
   ]
  },
  {
   "cell_type": "code",
   "execution_count": 17,
   "metadata": {},
   "outputs": [
    {
     "name": "stdout",
     "output_type": "stream",
     "text": [
      "<class 'TypeError'> unsupported operand type(s) for /: 'int' and 'str'\n",
      "最後に絶対に処理\n"
     ]
    }
   ],
   "source": [
    "# elseは例外が発生せず正常終了したあとに行う処理\n",
    "# finallyは例外が発生した場合もしなかった場合も常に最後に行う処理\n",
    "\n",
    "def except_test4(a):\n",
    "    try:\n",
    "        print(10 / a)\n",
    "    except Exception as e:\n",
    "        print(type(e), e)\n",
    "    else:\n",
    "        print('例外発生なし')\n",
    "    finally:\n",
    "        print('最後に絶対に処理')\n",
    "        \n",
    "except_test4('a')\n",
    "# except_test4(10)"
   ]
  },
  {
   "cell_type": "code",
   "execution_count": 2,
   "metadata": {},
   "outputs": [
    {
     "data": {
      "text/plain": [
       "'a'"
      ]
     },
     "execution_count": 2,
     "metadata": {},
     "output_type": "execute_result"
    }
   ],
   "source": [
    " # returnが使えるか\n",
    "def except_test5():\n",
    "    try:\n",
    "        raise Exception()\n",
    "    except Exception as e:\n",
    "        return \"a\"\n",
    "    \n",
    "except_test5()"
   ]
  },
  {
   "cell_type": "code",
   "execution_count": null,
   "metadata": {},
   "outputs": [],
   "source": []
  }
 ],
 "metadata": {
  "kernelspec": {
   "display_name": "Python 3",
   "language": "python",
   "name": "python3"
  },
  "language_info": {
   "codemirror_mode": {
    "name": "ipython",
    "version": 3
   },
   "file_extension": ".py",
   "mimetype": "text/x-python",
   "name": "python",
   "nbconvert_exporter": "python",
   "pygments_lexer": "ipython3",
   "version": "3.8.3"
  }
 },
 "nbformat": 4,
 "nbformat_minor": 4
}

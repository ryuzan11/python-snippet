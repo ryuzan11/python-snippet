{
 "cells": [
  {
   "cell_type": "code",
   "execution_count": 1,
   "metadata": {},
   "outputs": [
    {
     "name": "stdout",
     "output_type": "stream",
     "text": [
      "<class 'ValueError'>\n",
      "値エラー\n",
      "last\n",
      "<class 'ZeroDivisionError'>\n",
      "演算0エラー\n",
      "last\n",
      "<class 'Exception'>\n",
      "大半エラー\n",
      "last\n"
     ]
    }
   ],
   "source": [
    "def custom_value_error():\n",
    "    try:\n",
    "        raise ValueError('値エラー')\n",
    "    except ValueError as e:\n",
    "        print(type(e))\n",
    "        print(e)\n",
    "    except ZeroDivisionError as e:\n",
    "        print(type(e))\n",
    "        print(e)\n",
    "    except Exception as e:\n",
    "        print(type(e))\n",
    "        print(e)\n",
    "    print('last')\n",
    "        \n",
    "def custom_zero_error():\n",
    "    try:\n",
    "        raise ZeroDivisionError('演算0エラー')\n",
    "    except ValueError as e:\n",
    "        print(type(e))\n",
    "        print(e)\n",
    "    except ZeroDivisionError as e:\n",
    "        print(type(e))\n",
    "        print(e)\n",
    "    except Exception as e:\n",
    "        print(type(e))\n",
    "        print(e)\n",
    "    print('last')\n",
    "        \n",
    "def custom_except_error():\n",
    "    try:\n",
    "        raise Exception('大半エラー')\n",
    "    except ValueError as e:\n",
    "        print(type(e))\n",
    "        print(e)\n",
    "    except ZeroDivisionError as e:\n",
    "        print(type(e))\n",
    "        print(e)\n",
    "    except Exception as e:\n",
    "        print(type(e))\n",
    "        print(e)\n",
    "    print('last')\n",
    "        \n",
    "custom_value_error()\n",
    "custom_zero_error()\n",
    "custom_except_error()"
   ]
  },
  {
   "cell_type": "code",
   "execution_count": null,
   "metadata": {},
   "outputs": [],
   "source": []
  }
 ],
 "metadata": {
  "kernelspec": {
   "display_name": "Python 3",
   "language": "python",
   "name": "python3"
  },
  "language_info": {
   "codemirror_mode": {
    "name": "ipython",
    "version": 3
   },
   "file_extension": ".py",
   "mimetype": "text/x-python",
   "name": "python",
   "nbconvert_exporter": "python",
   "pygments_lexer": "ipython3",
   "version": "3.8.3"
  }
 },
 "nbformat": 4,
 "nbformat_minor": 4
}

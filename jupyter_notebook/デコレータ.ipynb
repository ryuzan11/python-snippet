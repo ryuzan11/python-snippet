{
 "cells": [
  {
   "cell_type": "code",
   "execution_count": 4,
   "metadata": {
    "scrolled": true
   },
   "outputs": [
    {
     "name": "stdout",
     "output_type": "stream",
     "text": [
      "beforehandの引数 =>\n",
      "beforehand引数1\n",
      "beforehand引数2\n",
      "\n",
      "デコレータに組み込まれる関数(func) =>\n",
      "<function secondfunc at 0x107d65ca0>\n",
      "argsはここでは使えない\n",
      "\n",
      "secondfuncの引数 =>\n",
      "secondfunc引数1 secondfunc引数2\n",
      "\n",
      "\n",
      "kwargs =>\n",
      "\n",
      "secondfunc内 =>\n",
      "secondfunc引数1\n",
      "secondfunc引数2\n"
     ]
    }
   ],
   "source": [
    "# beforehandの引数を受け取る\n",
    "def beforehand(test1, test2):\n",
    "    # secondfunc関数を受け取る\n",
    "    print('beforehandの引数 =>')\n",
    "    print(test1)\n",
    "    print(test2)\n",
    "    def second(func):\n",
    "        print('デコレータに組み込まれる関数(func) =>')\n",
    "        print(func)\n",
    "        print('argsはここでは使えない\\n')\n",
    "        def _wrapper(*args, **kwargs):\n",
    "            print('secondfuncの引数 =>')\n",
    "            print(*args)\n",
    "            # ここで改行を入れると二回改行されている？\n",
    "            print('\\n')\n",
    "            print('kwargs =>')\n",
    "            print(**kwargs)\n",
    "#             print('引数funcをデコレータ内で実行してみた =>')\n",
    "#             # ここでfuncを実行すると、最後にNoneが出力されるぞ？\n",
    "#             print(func(*args))\n",
    "            func(*args)\n",
    "#             response = func(*args)\n",
    "            # returnで関数返さなくてもデコレータ は動く\n",
    "#             return response\n",
    "        return _wrapper\n",
    "        print(_wrapper)\n",
    "    return second\n",
    "\n",
    "\n",
    "@beforehand(test1='beforehand引数1', test2='beforehand引数2\\n')\n",
    "def secondfunc(sample1, sample2):\n",
    "    print('secondfunc内 =>')\n",
    "    print(sample1)\n",
    "    print(sample2)\n",
    "    return\n",
    "\n",
    "sample1 = 'secondfunc引数1'\n",
    "sample2 = 'secondfunc引数2'\n",
    "secondfunc(sample1, sample2)\n",
    "        "
   ]
  },
  {
   "cell_type": "code",
   "execution_count": 3,
   "metadata": {},
   "outputs": [
    {
     "ename": "TypeError",
     "evalue": "'>' not supported between instances of 'str' and 'int'",
     "output_type": "error",
     "traceback": [
      "\u001b[0;31m---------------------------------------------------------------------------\u001b[0m",
      "\u001b[0;31mTypeError\u001b[0m                                 Traceback (most recent call last)",
      "\u001b[0;32m<ipython-input-3-78500bd99779>\u001b[0m in \u001b[0;36m<module>\u001b[0;34m\u001b[0m\n\u001b[1;32m      3\u001b[0m         \u001b[0mprint\u001b[0m\u001b[0;34m(\u001b[0m\u001b[0;34m'a'\u001b[0m\u001b[0;34m)\u001b[0m\u001b[0;34m\u001b[0m\u001b[0;34m\u001b[0m\u001b[0m\n\u001b[1;32m      4\u001b[0m \u001b[0;34m\u001b[0m\u001b[0m\n\u001b[0;32m----> 5\u001b[0;31m \u001b[0ma\u001b[0m\u001b[0;34m(\u001b[0m\u001b[0mb\u001b[0m\u001b[0;34m=\u001b[0m\u001b[0;34m\"ka\"\u001b[0m\u001b[0;34m)\u001b[0m\u001b[0;34m\u001b[0m\u001b[0;34m\u001b[0m\u001b[0m\n\u001b[0m",
      "\u001b[0;32m<ipython-input-3-78500bd99779>\u001b[0m in \u001b[0;36ma\u001b[0;34m(b)\u001b[0m\n\u001b[1;32m      1\u001b[0m \u001b[0;32mdef\u001b[0m \u001b[0ma\u001b[0m\u001b[0;34m(\u001b[0m\u001b[0mb\u001b[0m\u001b[0;34m=\u001b[0m\u001b[0;36m0\u001b[0m\u001b[0;34m)\u001b[0m\u001b[0;34m:\u001b[0m\u001b[0;34m\u001b[0m\u001b[0;34m\u001b[0m\u001b[0m\n\u001b[0;32m----> 2\u001b[0;31m     \u001b[0;32mif\u001b[0m \u001b[0mb\u001b[0m\u001b[0;34m>\u001b[0m\u001b[0;36m0\u001b[0m\u001b[0;34m:\u001b[0m\u001b[0;34m\u001b[0m\u001b[0;34m\u001b[0m\u001b[0m\n\u001b[0m\u001b[1;32m      3\u001b[0m         \u001b[0mprint\u001b[0m\u001b[0;34m(\u001b[0m\u001b[0;34m'a'\u001b[0m\u001b[0;34m)\u001b[0m\u001b[0;34m\u001b[0m\u001b[0;34m\u001b[0m\u001b[0m\n\u001b[1;32m      4\u001b[0m \u001b[0;34m\u001b[0m\u001b[0m\n\u001b[1;32m      5\u001b[0m \u001b[0ma\u001b[0m\u001b[0;34m(\u001b[0m\u001b[0mb\u001b[0m\u001b[0;34m=\u001b[0m\u001b[0;34m\"ka\"\u001b[0m\u001b[0;34m)\u001b[0m\u001b[0;34m\u001b[0m\u001b[0;34m\u001b[0m\u001b[0m\n",
      "\u001b[0;31mTypeError\u001b[0m: '>' not supported between instances of 'str' and 'int'"
     ]
    }
   ],
   "source": [
    "def a(b=0):\n",
    "    if b>0:\n",
    "        print('a')\n",
    "        \n",
    "a(b=\"ka\")"
   ]
  },
  {
   "cell_type": "code",
   "execution_count": 4,
   "metadata": {},
   "outputs": [
    {
     "name": "stdout",
     "output_type": "stream",
     "text": [
      "何個受け取れる？ bbb\n"
     ]
    },
    {
     "ename": "ValueError",
     "evalue": "too many values to unpack (expected 2)",
     "output_type": "error",
     "traceback": [
      "\u001b[0;31m---------------------------------------------------------------------------\u001b[0m",
      "\u001b[0;31mValueError\u001b[0m                                Traceback (most recent call last)",
      "\u001b[0;32m<ipython-input-4-aa2d833c47ff>\u001b[0m in \u001b[0;36m<module>\u001b[0;34m\u001b[0m\n\u001b[1;32m      9\u001b[0m     \u001b[0;32mreturn\u001b[0m \u001b[0ma\u001b[0m\u001b[0;34m\u001b[0m\u001b[0;34m\u001b[0m\u001b[0m\n\u001b[1;32m     10\u001b[0m \u001b[0;34m\u001b[0m\u001b[0m\n\u001b[0;32m---> 11\u001b[0;31m \u001b[0md\u001b[0m\u001b[0;34m,\u001b[0m \u001b[0me\u001b[0m \u001b[0;34m=\u001b[0m \u001b[0mjki\u001b[0m\u001b[0;34m(\u001b[0m\u001b[0;34m'何個受け取れる？'\u001b[0m\u001b[0;34m)\u001b[0m\u001b[0;34m\u001b[0m\u001b[0;34m\u001b[0m\u001b[0m\n\u001b[0m\u001b[1;32m     12\u001b[0m \u001b[0;34m\u001b[0m\u001b[0m\n\u001b[1;32m     13\u001b[0m \u001b[0mprint\u001b[0m\u001b[0;34m(\u001b[0m\u001b[0md\u001b[0m\u001b[0;34m,\u001b[0m \u001b[0me\u001b[0m\u001b[0;34m)\u001b[0m\u001b[0;34m\u001b[0m\u001b[0;34m\u001b[0m\u001b[0m\n",
      "\u001b[0;31mValueError\u001b[0m: too many values to unpack (expected 2)"
     ]
    }
   ],
   "source": [
    "def hgt(a):\n",
    "    return a, 'bbb'\n",
    "\n",
    "b, c = hgt('何個受け取れる？')\n",
    "\n",
    "print(b,c)\n",
    "\n",
    "def jki(a):\n",
    "    return a\n",
    "\n",
    "d, e = jki('何個受け取れる？')\n",
    "\n",
    "print(d, e)"
   ]
  },
  {
   "cell_type": "code",
   "execution_count": null,
   "metadata": {},
   "outputs": [],
   "source": []
  }
 ],
 "metadata": {
  "kernelspec": {
   "display_name": "Python 3",
   "language": "python",
   "name": "python3"
  },
  "language_info": {
   "codemirror_mode": {
    "name": "ipython",
    "version": 3
   },
   "file_extension": ".py",
   "mimetype": "text/x-python",
   "name": "python",
   "nbconvert_exporter": "python",
   "pygments_lexer": "ipython3",
   "version": "3.8.3"
  }
 },
 "nbformat": 4,
 "nbformat_minor": 4
}

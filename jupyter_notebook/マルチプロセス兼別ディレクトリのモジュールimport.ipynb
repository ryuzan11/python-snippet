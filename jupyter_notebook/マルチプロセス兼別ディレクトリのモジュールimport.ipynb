{
 "cells": [
  {
   "cell_type": "code",
   "execution_count": 9,
   "metadata": {},
   "outputs": [
    {
     "name": "stdout",
     "output_type": "stream",
     "text": [
      "スタート =>  1621791330.874018\n",
      "終わり =>  1621791333.176241\n",
      "処理時間 =>  2.302222967147827\n",
      "r_get1の処理結果 => \n",
      "{\"message\":\"Hello there, wayfaring stranger. If you’re reading this then you probably didn’t see our blog post a couple of years back announcing that this API would go away: http://git.io/17AROg Fear not, you should be able to get what you need from the shiny new Events API instead.\",\"documentation_url\":\"https://docs.github.com/v3/activity/events/#list-public-events\"}\n",
      "スタート =>  1621791333.176715\n",
      "終わり =>  1621791334.330849\n",
      "処理時間 =>  1.1541340351104736\n",
      "sample1の処理結果 => \n",
      "{\"message\":\"Hello there, wayfaring stranger. If you’re reading this then you probably didn’t see our blog post a couple of years back announcing that this API would go away: http://git.io/17AROg Fear not, you should be able to get what you need from the shiny new Events API instead.\",\"documentation_url\":\"https://docs.github.com/v3/activity/events/#list-public-events\"}\n"
     ]
    }
   ],
   "source": [
    "import sys\n",
    "\n",
    "sys.path.append(\"/Users/osaka/Projects/snippet/python\")\n",
    "\n",
    "import support_multiprocess\n",
    "\n",
    "\n",
    "support_multiprocess.not_use_multiprocess()\n",
    "support_multiprocess.use_multiprocess()"
   ]
  },
  {
   "cell_type": "code",
   "execution_count": null,
   "metadata": {},
   "outputs": [],
   "source": []
  }
 ],
 "metadata": {
  "kernelspec": {
   "display_name": "Python 3",
   "language": "python",
   "name": "python3"
  },
  "language_info": {
   "codemirror_mode": {
    "name": "ipython",
    "version": 3
   },
   "file_extension": ".py",
   "mimetype": "text/x-python",
   "name": "python",
   "nbconvert_exporter": "python",
   "pygments_lexer": "ipython3",
   "version": "3.8.3"
  }
 },
 "nbformat": 4,
 "nbformat_minor": 4
}

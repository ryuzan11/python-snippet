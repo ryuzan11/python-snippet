{
 "cells": [
  {
   "cell_type": "code",
   "execution_count": 2,
   "metadata": {},
   "outputs": [
    {
     "name": "stdout",
     "output_type": "stream",
     "text": [
      "shinsei\n",
      "repair\n",
      "sample.jpeg\n",
      "YYYYMMDD\n"
     ]
    }
   ],
   "source": [
    "file_path = 'dir1/dir2/dir3/dir4/sample.jpeg'\n",
    "\n",
    "print(file_path.split('/')[0])\n",
    "print(file_path.split('/')[1])\n",
    "print(file_path.split('/')[-1])\n",
    "print(file_path.split('/')[-2])"
   ]
  },
  {
   "cell_type": "code",
   "execution_count": 4,
   "metadata": {},
   "outputs": [],
   "source": [
    "import os"
   ]
  },
  {
   "cell_type": "code",
   "execution_count": 5,
   "metadata": {},
   "outputs": [
    {
     "name": "stdout",
     "output_type": "stream",
     "text": [
      "sample.jpeg\n"
     ]
    }
   ],
   "source": [
    "basename = os.path.basename(file_path)\n",
    "print(basename)"
   ]
  },
  {
   "cell_type": "code",
   "execution_count": 6,
   "metadata": {},
   "outputs": [
    {
     "name": "stdout",
     "output_type": "stream",
     "text": [
      "shinsei/repair/web/YYYYMMDD\n"
     ]
    }
   ],
   "source": [
    "dirname = os.path.dirname(file_path)\n",
    "print(dirname)"
   ]
  },
  {
   "cell_type": "code",
   "execution_count": 7,
   "metadata": {},
   "outputs": [
    {
     "name": "stdout",
     "output_type": "stream",
     "text": [
      "YYYYMMDD\n"
     ]
    }
   ],
   "source": [
    "# ファイルの直上のフォルダ名のみを取得\n",
    "subdirname = os.path.basename(os.path.dirname(file_path))\n",
    "print(subdirname)"
   ]
  },
  {
   "cell_type": "code",
   "execution_count": 9,
   "metadata": {},
   "outputs": [
    {
     "name": "stdout",
     "output_type": "stream",
     "text": [
      "shinsei/repair/web/YYYYMMDD/sample\n",
      ".jpeg\n"
     ]
    }
   ],
   "source": [
    "root, ext = os.path.splitext(file_path)\n",
    "print(root)\n",
    "print(ext)"
   ]
  },
  {
   "cell_type": "code",
   "execution_count": null,
   "metadata": {},
   "outputs": [],
   "source": []
  }
 ],
 "metadata": {
  "kernelspec": {
   "display_name": "Python 3",
   "language": "python",
   "name": "python3"
  },
  "language_info": {
   "codemirror_mode": {
    "name": "ipython",
    "version": 3
   },
   "file_extension": ".py",
   "mimetype": "text/x-python",
   "name": "python",
   "nbconvert_exporter": "python",
   "pygments_lexer": "ipython3",
   "version": "3.8.5"
  }
 },
 "nbformat": 4,
 "nbformat_minor": 4
}

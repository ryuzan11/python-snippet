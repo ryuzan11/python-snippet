{
 "cells": [
  {
   "cell_type": "code",
   "execution_count": 11,
   "metadata": {},
   "outputs": [
    {
     "name": "stdout",
     "output_type": "stream",
     "text": [
      "output\n"
     ]
    }
   ],
   "source": [
    "# class Test:\n",
    "#     def __init__(self, word):\n",
    "#         self.output_word = word\n",
    "        \n",
    "#     def __repr__(self):\n",
    "#         return self.output_word\n",
    "\n",
    "# test_instance = Test('output')\n",
    "# print(test_instance)\n",
    "\n"
   ]
  },
  {
   "cell_type": "code",
   "execution_count": 24,
   "metadata": {},
   "outputs": [
    {
     "name": "stdout",
     "output_type": "stream",
     "text": [
      "<__main__.Sample object at 0x11240f850>\n"
     ]
    }
   ],
   "source": [
    "class Sample:\n",
    "    def __init__(self, a_list):\n",
    "        self.my_list = a_list\n",
    "        \n",
    "#     def __repr__(self):\n",
    "#         return ','.join(self.my_list)\n",
    "        \n",
    "    def add(self, word):\n",
    "        self.my_list.append(word)\n",
    "        \n",
    "\n",
    "sample = Sample(['aaa', 'bbb', 'ccc'])\n",
    "sample.add('ddd')\n",
    "\n",
    "print(sample)"
   ]
  },
  {
   "cell_type": "code",
   "execution_count": 25,
   "metadata": {},
   "outputs": [
    {
     "name": "stdout",
     "output_type": "stream",
     "text": [
      "<__main__.Sample object at 0x11240f850>\n"
     ]
    }
   ],
   "source": [
    "print(sample)"
   ]
  },
  {
   "cell_type": "code",
   "execution_count": null,
   "metadata": {},
   "outputs": [],
   "source": []
  }
 ],
 "metadata": {
  "kernelspec": {
   "display_name": "Python 3",
   "language": "python",
   "name": "python3"
  },
  "language_info": {
   "codemirror_mode": {
    "name": "ipython",
    "version": 3
   },
   "file_extension": ".py",
   "mimetype": "text/x-python",
   "name": "python",
   "nbconvert_exporter": "python",
   "pygments_lexer": "ipython3",
   "version": "3.8.3"
  }
 },
 "nbformat": 4,
 "nbformat_minor": 4
}

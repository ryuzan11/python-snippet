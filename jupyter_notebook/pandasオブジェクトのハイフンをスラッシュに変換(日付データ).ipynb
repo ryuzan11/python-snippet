{
 "cells": [
  {
   "cell_type": "code",
   "execution_count": 2,
   "metadata": {},
   "outputs": [
    {
     "name": "stdout",
     "output_type": "stream",
     "text": [
      "a    datetime64[ns]\n",
      "b    datetime64[ns]\n",
      "c    datetime64[ns]\n",
      "dtype: object\n"
     ]
    },
    {
     "data": {
      "text/html": [
       "<div>\n",
       "<style scoped>\n",
       "    .dataframe tbody tr th:only-of-type {\n",
       "        vertical-align: middle;\n",
       "    }\n",
       "\n",
       "    .dataframe tbody tr th {\n",
       "        vertical-align: top;\n",
       "    }\n",
       "\n",
       "    .dataframe thead th {\n",
       "        text-align: right;\n",
       "    }\n",
       "</style>\n",
       "<table border=\"1\" class=\"dataframe\">\n",
       "  <thead>\n",
       "    <tr style=\"text-align: right;\">\n",
       "      <th></th>\n",
       "      <th>a</th>\n",
       "      <th>b</th>\n",
       "      <th>c</th>\n",
       "    </tr>\n",
       "  </thead>\n",
       "  <tbody>\n",
       "    <tr>\n",
       "      <th>0</th>\n",
       "      <td>2018-01-01</td>\n",
       "      <td>2021-01-01</td>\n",
       "      <td>2100-01-01</td>\n",
       "    </tr>\n",
       "    <tr>\n",
       "      <th>1</th>\n",
       "      <td>2018-01-01</td>\n",
       "      <td>2021-01-01</td>\n",
       "      <td>2100-01-01</td>\n",
       "    </tr>\n",
       "    <tr>\n",
       "      <th>2</th>\n",
       "      <td>2018-01-01</td>\n",
       "      <td>2021-01-01</td>\n",
       "      <td>2100-01-01</td>\n",
       "    </tr>\n",
       "    <tr>\n",
       "      <th>3</th>\n",
       "      <td>2018-01-01</td>\n",
       "      <td>2021-01-01</td>\n",
       "      <td>2100-01-01</td>\n",
       "    </tr>\n",
       "    <tr>\n",
       "      <th>4</th>\n",
       "      <td>2018-01-01</td>\n",
       "      <td>2021-01-01</td>\n",
       "      <td>2100-01-01</td>\n",
       "    </tr>\n",
       "    <tr>\n",
       "      <th>5</th>\n",
       "      <td>2018-01-01</td>\n",
       "      <td>2021-01-01</td>\n",
       "      <td>2100-01-01</td>\n",
       "    </tr>\n",
       "  </tbody>\n",
       "</table>\n",
       "</div>"
      ],
      "text/plain": [
       "           a          b          c\n",
       "0 2018-01-01 2021-01-01 2100-01-01\n",
       "1 2018-01-01 2021-01-01 2100-01-01\n",
       "2 2018-01-01 2021-01-01 2100-01-01\n",
       "3 2018-01-01 2021-01-01 2100-01-01\n",
       "4 2018-01-01 2021-01-01 2100-01-01\n",
       "5 2018-01-01 2021-01-01 2100-01-01"
      ]
     },
     "execution_count": 2,
     "metadata": {},
     "output_type": "execute_result"
    }
   ],
   "source": [
    "import pandas as pd\n",
    "\n",
    "dict_data1 = {\n",
    "    'a': [\"2018-01-01\", \"2018-01-01\", \"2018-01-01\", \"2018-01-01\", \"2018-01-01\", \"2018-01-01\"],\n",
    "    'b': ['2021-01-01', '2021-01-01', '2021-01-01', '2021-01-01', '2021-01-01', '2021-01-01'],\n",
    "    'c': ['2100-01-01', '2100-01-01', '2100-01-01', '2100-01-01', '2100-01-01', '2100-01-01']\n",
    "}\n",
    "\n",
    "dict_df1 = pd.DataFrame(dict_data1)\n",
    "\n",
    "dict_df1['a'] = pd.to_datetime(dict_df1['a'])\n",
    "dict_df1['b'] =pd.to_datetime(dict_df1['b'])\n",
    "dict_df1['c'] =pd.to_datetime(dict_df1['c'])\n",
    "\n",
    "print(dict_df1.dtypes)\n",
    "dict_df1"
   ]
  },
  {
   "cell_type": "code",
   "execution_count": 5,
   "metadata": {},
   "outputs": [
    {
     "data": {
      "text/plain": [
       "dtype('<M8[ns]')"
      ]
     },
     "execution_count": 5,
     "metadata": {},
     "output_type": "execute_result"
    }
   ],
   "source": [
    "def convert_tmp(column):\n",
    "    print(column.dtype)\n",
    "    \n",
    "dict_df1['a'].dtype\n",
    "    \n",
    "# dict_df1.apply(convert_tmp)"
   ]
  },
  {
   "cell_type": "code",
   "execution_count": null,
   "metadata": {},
   "outputs": [],
   "source": [
    "## cはそのままで上書きできるか検証　→ 全て上書きされcは消えた\n",
    "\n",
    "dict_data2 = {\n",
    "    'a': [\"2018-01-01\", \"2018-01-01\", \"2018-01-01\", \"2018-01-01\", \"2018-01-01\", \"2018-01-01\"],\n",
    "    'b': ['2021-01-01', '2021-01-01', '2021-01-01', '2021-01-01', '2021-01-01', '2021-01-01']\n",
    "}\n",
    "\n",
    "dict_df2 = pd.DataFrame(dict_data2)\n",
    "\n",
    "dict_df2['a'] = dict_df2['a'].apply(lambda x: 'abc')\n",
    "dict_df2['b'] = dict_df2['b'].apply(lambda x: 'def')\n",
    "\n",
    "dict_df1 = dict_df2\n",
    "\n",
    "print(dict_df1)"
   ]
  },
  {
   "cell_type": "code",
   "execution_count": 32,
   "metadata": {},
   "outputs": [
    {
     "name": "stdout",
     "output_type": "stream",
     "text": [
      "object\n",
      "object\n",
      "object\n",
      "object\n"
     ]
    },
    {
     "data": {
      "text/html": [
       "<div>\n",
       "<style scoped>\n",
       "    .dataframe tbody tr th:only-of-type {\n",
       "        vertical-align: middle;\n",
       "    }\n",
       "\n",
       "    .dataframe tbody tr th {\n",
       "        vertical-align: top;\n",
       "    }\n",
       "\n",
       "    .dataframe thead th {\n",
       "        text-align: right;\n",
       "    }\n",
       "</style>\n",
       "<table border=\"1\" class=\"dataframe\">\n",
       "  <thead>\n",
       "    <tr style=\"text-align: right;\">\n",
       "      <th></th>\n",
       "      <th>a</th>\n",
       "      <th>b</th>\n",
       "      <th>c</th>\n",
       "    </tr>\n",
       "  </thead>\n",
       "  <tbody>\n",
       "    <tr>\n",
       "      <th>0</th>\n",
       "      <td>2018/01/01</td>\n",
       "      <td>2021/01/01</td>\n",
       "      <td>2100-01-01</td>\n",
       "    </tr>\n",
       "    <tr>\n",
       "      <th>1</th>\n",
       "      <td></td>\n",
       "      <td>2021/01/01</td>\n",
       "      <td>2100-01-01</td>\n",
       "    </tr>\n",
       "    <tr>\n",
       "      <th>2</th>\n",
       "      <td>2018/01/01</td>\n",
       "      <td>None</td>\n",
       "      <td>2100-01-01</td>\n",
       "    </tr>\n",
       "    <tr>\n",
       "      <th>3</th>\n",
       "      <td>2018/01/01</td>\n",
       "      <td>2021/01/01</td>\n",
       "      <td>None</td>\n",
       "    </tr>\n",
       "    <tr>\n",
       "      <th>4</th>\n",
       "      <td>2018/01/01</td>\n",
       "      <td>2021/01/01</td>\n",
       "      <td>2100-01-01</td>\n",
       "    </tr>\n",
       "    <tr>\n",
       "      <th>5</th>\n",
       "      <td>2018/01/01</td>\n",
       "      <td>2021/01/01</td>\n",
       "      <td>2100-01-01</td>\n",
       "    </tr>\n",
       "  </tbody>\n",
       "</table>\n",
       "</div>"
      ],
      "text/plain": [
       "            a           b           c\n",
       "0  2018/01/01  2021/01/01  2100-01-01\n",
       "1              2021/01/01  2100-01-01\n",
       "2  2018/01/01        None  2100-01-01\n",
       "3  2018/01/01  2021/01/01        None\n",
       "4  2018/01/01  2021/01/01  2100-01-01\n",
       "5  2018/01/01  2021/01/01  2100-01-01"
      ]
     },
     "execution_count": 32,
     "metadata": {},
     "output_type": "execute_result"
    }
   ],
   "source": [
    "dict_data3 = {\n",
    "    'a': [\"2018-01-01\", \"\", \"2018-01-01\", \"2018-01-01\", \"2018-01-01\", \"2018-01-01\"],\n",
    "    'b': ['2021-01-01', '2021-01-01', None, '2021-01-01', '2021-01-01', '2021-01-01'],\n",
    "    'c': ['2100-01-01', '2100-01-01', '2100-01-01', None, '2100-01-01', '2100-01-01']\n",
    "}\n",
    "\n",
    "dict_df3 = pd.DataFrame(dict_data3)\n",
    "\n",
    "\n",
    "def convert_hyphen(column):\n",
    "    print(column.dtype)\n",
    "    if column.name in ['a', 'b']:\n",
    "        return column.str.replace('-', '/')\n",
    "    \n",
    "    return column\n",
    "\n",
    "\n",
    "dict_df3 = dict_df3.apply(convert_hyphen)\n",
    "\n",
    "dict_df3"
   ]
  },
  {
   "cell_type": "code",
   "execution_count": null,
   "metadata": {},
   "outputs": [],
   "source": [
    "# dict_df4 = dict_df3[['a', 'b']]\n",
    "\n",
    "# print(dict_df4.dtypes)\n",
    "\n",
    "# dict_df4 = dict_df4.replace('-', '/', regex=True)\n",
    "\n",
    "# dict_df3.update(dict_df4)\n",
    "\n",
    "\n",
    "# dict_df3"
   ]
  }
 ],
 "metadata": {
  "kernelspec": {
   "display_name": "Python 3",
   "language": "python",
   "name": "python3"
  },
  "language_info": {
   "codemirror_mode": {
    "name": "ipython",
    "version": 3
   },
   "file_extension": ".py",
   "mimetype": "text/x-python",
   "name": "python",
   "nbconvert_exporter": "python",
   "pygments_lexer": "ipython3",
   "version": "3.8.3"
  }
 },
 "nbformat": 4,
 "nbformat_minor": 4
}

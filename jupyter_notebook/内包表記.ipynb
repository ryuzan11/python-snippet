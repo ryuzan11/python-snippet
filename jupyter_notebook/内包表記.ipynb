{
 "cells": [
  {
   "cell_type": "code",
   "execution_count": 6,
   "metadata": {},
   "outputs": [],
   "source": [
    "sample_dict = {\n",
    "  0: \"a\",\n",
    "   1: \"aaa\",\n",
    "   2: \"bbb\",\n",
    "   3: \"ccc\",\n",
    "   4: \"ddd\" \n",
    "}\n",
    "\n",
    "sample_list = [\"aaa\", \"bbb\", \"ccc\", \"ddd\"]"
   ]
  },
  {
   "cell_type": "code",
   "execution_count": 7,
   "metadata": {},
   "outputs": [
    {
     "name": "stdout",
     "output_type": "stream",
     "text": [
      "['aaa', 'bbb', 'ccc', 'ddd']\n"
     ]
    }
   ],
   "source": [
    "sasa = list(v for k, v in sample_dict.items() if k != 0)\n",
    "print(sasa)"
   ]
  },
  {
   "cell_type": "code",
   "execution_count": 19,
   "metadata": {},
   "outputs": [
    {
     "name": "stdout",
     "output_type": "stream",
     "text": [
      "['aaa', 'bbb', 'ccc', 'ddd']\n",
      "['aaa', 'bbb', 'ccc', 'ddd']\n"
     ]
    }
   ],
   "source": [
    "# リスト内包表記\n",
    "\n",
    "in_list = [i for i in sample_dict.values()]\n",
    "\n",
    "print(in_list)\n",
    "\n",
    "in_list2 = list(i for i in sample_dict.values())\n",
    "\n",
    "print(in_list2)"
   ]
  },
  {
   "cell_type": "code",
   "execution_count": 5,
   "metadata": {},
   "outputs": [
    {
     "name": "stdout",
     "output_type": "stream",
     "text": [
      "['bbb', 'ddd']\n"
     ]
    }
   ],
   "source": [
    "# ifで条件分岐したリスト内包表記\n",
    "\n",
    "in_list_if = [value for key, value in sample_dict.items() if key % 2 == 0]\n",
    "\n",
    "print(in_list_if)"
   ]
  },
  {
   "cell_type": "code",
   "execution_count": 7,
   "metadata": {},
   "outputs": [
    {
     "name": "stdout",
     "output_type": "stream",
     "text": [
      "['odd', 'even', 'odd', 'even']\n"
     ]
    }
   ],
   "source": [
    "# 三項演算子を使用したリスト内包表記\n",
    "\n",
    "in_list_ternary_operator = ['even'  if key % 2 == 0 else 'odd' for key, value in sample_dict.items()]\n",
    "\n",
    "print(in_list_ternary_operator)"
   ]
  },
  {
   "cell_type": "code",
   "execution_count": 10,
   "metadata": {},
   "outputs": [
    {
     "name": "stdout",
     "output_type": "stream",
     "text": [
      "[{'key': 0, 'value': 'aaa'}, {'key': 1, 'value': 'bbb'}, {'key': 2, 'value': 'ccc'}, {'key': 3, 'value': 'ddd'}]\n",
      "[{'key': 0, 'value': 1}, {'key': 1, 'value': 2}, {'key': 2, 'value': 3}, {'key': 3, 'value': 4}]\n"
     ]
    }
   ],
   "source": [
    "# enumerateを使ったリスト内包表記\n",
    "\n",
    "in_list_enumerate_list = [{'key': i, 'value': value} for i, value in enumerate(sample_list)]\n",
    "\n",
    "print(in_list_enumerate_list)\n",
    "\n",
    "# 仕組み不明(辞書型でenumerate)\n",
    "in_list_enumerate_dict = [{'key': i, 'value': s_dict} for i, s_dict in enumerate(sample_dict)]\n",
    "\n",
    "print(in_list_enumerate_dict)"
   ]
  },
  {
   "cell_type": "code",
   "execution_count": 11,
   "metadata": {},
   "outputs": [
    {
     "name": "stdout",
     "output_type": "stream",
     "text": [
      "{'ccc', 'aaa', 'ddd', 'bbb'}\n"
     ]
    }
   ],
   "source": [
    "# 集合内包表記（Set comprehensions）\n",
    "# 順番が変わっている？\n",
    "\n",
    "in_set = {v for v in sample_list}\n",
    "\n",
    "print(in_set)"
   ]
  },
  {
   "cell_type": "code",
   "execution_count": 18,
   "metadata": {},
   "outputs": [
    {
     "name": "stdout",
     "output_type": "stream",
     "text": [
      "{1: 'aaa', 2: 'bbb', 3: 'ccc', 4: 'ddd'}\n"
     ]
    }
   ],
   "source": [
    "# 辞書内包表記（Dict comprehensions）\n",
    "\n",
    "in_dict = {k: v for k, v in sample_dict.items()}\n",
    "\n",
    "print(in_dict)"
   ]
  },
  {
   "cell_type": "code",
   "execution_count": null,
   "metadata": {},
   "outputs": [],
   "source": []
  }
 ],
 "metadata": {
  "kernelspec": {
   "display_name": "Python 3",
   "language": "python",
   "name": "python3"
  },
  "language_info": {
   "codemirror_mode": {
    "name": "ipython",
    "version": 3
   },
   "file_extension": ".py",
   "mimetype": "text/x-python",
   "name": "python",
   "nbconvert_exporter": "python",
   "pygments_lexer": "ipython3",
   "version": "3.8.3"
  }
 },
 "nbformat": 4,
 "nbformat_minor": 4
}
